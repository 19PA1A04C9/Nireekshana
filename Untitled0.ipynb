{
  "nbformat": 4,
  "nbformat_minor": 0,
  "metadata": {
    "colab": {
      "name": "Untitled0.ipynb",
      "provenance": [],
      "toc_visible": true,
      "authorship_tag": "ABX9TyPXv1yQUG4DB9DdnaeVvTqJ",
      "include_colab_link": true
    },
    "kernelspec": {
      "name": "python3",
      "display_name": "Python 3"
    }
  },
  "cells": [
    {
      "cell_type": "markdown",
      "metadata": {
        "id": "view-in-github",
        "colab_type": "text"
      },
      "source": [
        "<a href=\"https://colab.research.google.com/github/19PA1A04C9/Nireekshana/blob/master/Untitled0.ipynb\" target=\"_parent\"><img src=\"https://colab.research.google.com/assets/colab-badge.svg\" alt=\"Open In Colab\"/></a>"
      ]
    },
    {
      "cell_type": "code",
      "metadata": {
        "id": "4etoZ2I0MYVE",
        "colab_type": "code",
        "colab": {
          "base_uri": "https://localhost:8080/",
          "height": 119
        },
        "outputId": "b77b977a-93f1-47e0-eba0-87fc50a9cad8"
      },
      "source": [
        "import pandas as pd\n",
        "data = [1,2,3,4,5]\n",
        "df = pd.DataFrame(data)\n",
        "print(df) "
      ],
      "execution_count": 1,
      "outputs": [
        {
          "output_type": "stream",
          "text": [
            "   0\n",
            "0  1\n",
            "1  2\n",
            "2  3\n",
            "3  4\n",
            "4  5\n"
          ],
          "name": "stdout"
        }
      ]
    },
    {
      "cell_type": "code",
      "metadata": {
        "id": "tQuESzdHO_cS",
        "colab_type": "code",
        "colab": {
          "base_uri": "https://localhost:8080/",
          "height": 85
        },
        "outputId": "d1c95a04-9c6e-40b2-9987-ce622080b683"
      },
      "source": [
        "import pandas as pd\n",
        "data = [['Alex',10],['Bob',12],['Clarke',13]]\n",
        "df = pd.DataFrame(data,columns=['Name','Age'])\n",
        "print(df)"
      ],
      "execution_count": 2,
      "outputs": [
        {
          "output_type": "stream",
          "text": [
            "     Name  Age\n",
            "0    Alex   10\n",
            "1     Bob   12\n",
            "2  Clarke   13\n"
          ],
          "name": "stdout"
        }
      ]
    },
    {
      "cell_type": "code",
      "metadata": {
        "id": "nT1UKc4mPgNK",
        "colab_type": "code",
        "colab": {
          "base_uri": "https://localhost:8080/",
          "height": 85
        },
        "outputId": "dacd4ee4-a0d9-419c-8715-daa4bc823b83"
      },
      "source": [
        "import pandas as pd\n",
        "data = [['Alex',10],['Bob',12],['Clarke',13]]\n",
        "df = pd.DataFrame(data,columns=['Name','Age'],dtype=float)\n",
        "print(df)"
      ],
      "execution_count": 4,
      "outputs": [
        {
          "output_type": "stream",
          "text": [
            "     Name   Age\n",
            "0    Alex  10.0\n",
            "1     Bob  12.0\n",
            "2  Clarke  13.0\n"
          ],
          "name": "stdout"
        }
      ]
    },
    {
      "cell_type": "code",
      "metadata": {
        "id": "iRqx7_y2kS_3",
        "colab_type": "code",
        "colab": {
          "base_uri": "https://localhost:8080/",
          "height": 918
        },
        "outputId": "bb373ae1-2ccb-4e6a-e7f8-100036a26a5b"
      },
      "source": [
        "import pandas as pd\n",
        "a=pd.read_csv(\"/content/sample_data/anscombe.json\")\n",
        "print(a)\n",
        "print(a.info())"
      ],
      "execution_count": 5,
      "outputs": [
        {
          "output_type": "stream",
          "text": [
            "                                          [\n",
            "  {\"Series\":\"I\"    \"X\":10.0  \"Y\":8.04}  NaN\n",
            "                   \"X\":8.0   \"Y\":6.95}  NaN\n",
            "                   \"X\":13.0  \"Y\":7.58}  NaN\n",
            "                   \"X\":9.0   \"Y\":8.81}  NaN\n",
            "                   \"X\":11.0  \"Y\":8.33}  NaN\n",
            "                   \"X\":14.0  \"Y\":9.96}  NaN\n",
            "                   \"X\":6.0   \"Y\":7.24}  NaN\n",
            "                   \"X\":4.0   \"Y\":4.26}  NaN\n",
            "                   \"X\":12.0  \"Y\":10.84} NaN\n",
            "                   \"X\":7.0   \"Y\":4.81}  NaN\n",
            "                   \"X\":5.0   \"Y\":5.68}  NaN\n",
            "  {\"Series\":\"II\"   \"X\":10.0  \"Y\":9.14}  NaN\n",
            "                   \"X\":8.0   \"Y\":8.14}  NaN\n",
            "                   \"X\":13.0  \"Y\":8.74}  NaN\n",
            "                   \"X\":9.0   \"Y\":8.77}  NaN\n",
            "                   \"X\":11.0  \"Y\":9.26}  NaN\n",
            "                   \"X\":14.0  \"Y\":8.10}  NaN\n",
            "                   \"X\":6.0   \"Y\":6.13}  NaN\n",
            "                   \"X\":4.0   \"Y\":3.10}  NaN\n",
            "                   \"X\":12.0  \"Y\":9.13}  NaN\n",
            "                   \"X\":7.0   \"Y\":7.26}  NaN\n",
            "                   \"X\":5.0   \"Y\":4.74}  NaN\n",
            "  {\"Series\":\"III\"  \"X\":10.0  \"Y\":7.46}  NaN\n",
            "                   \"X\":8.0   \"Y\":6.77}  NaN\n",
            "                   \"X\":13.0  \"Y\":12.74} NaN\n",
            "                   \"X\":9.0   \"Y\":7.11}  NaN\n",
            "                   \"X\":11.0  \"Y\":7.81}  NaN\n",
            "                   \"X\":14.0  \"Y\":8.84}  NaN\n",
            "                   \"X\":6.0   \"Y\":6.08}  NaN\n",
            "                   \"X\":4.0   \"Y\":5.39}  NaN\n",
            "                   \"X\":12.0  \"Y\":8.15}  NaN\n",
            "                   \"X\":7.0   \"Y\":6.42}  NaN\n",
            "                   \"X\":5.0   \"Y\":5.73}  NaN\n",
            "  {\"Series\":\"IV\"   \"X\":8.0   \"Y\":6.58}  NaN\n",
            "                             \"Y\":5.76}  NaN\n",
            "                             \"Y\":7.71}  NaN\n",
            "                             \"Y\":8.84}  NaN\n",
            "                             \"Y\":8.47}  NaN\n",
            "                             \"Y\":7.04}  NaN\n",
            "                             \"Y\":5.25}  NaN\n",
            "                   \"X\":19.0  \"Y\":12.50} NaN\n",
            "                   \"X\":8.0   \"Y\":5.56}  NaN\n",
            "                             \"Y\":7.91}  NaN\n",
            "                             \"Y\":6.89}  NaN\n",
            "]                 NaN       NaN         NaN\n",
            "<class 'pandas.core.frame.DataFrame'>\n",
            "MultiIndex: 45 entries, (  {\"Series\":\"I\",  \"X\":10.0,  \"Y\":8.04}) to (], nan, nan)\n",
            "Data columns (total 1 columns):\n",
            "[    0 non-null float64\n",
            "dtypes: float64(1)\n",
            "memory usage: 1023.0+ bytes\n",
            "None\n"
          ],
          "name": "stdout"
        }
      ]
    },
    {
      "cell_type": "code",
      "metadata": {
        "id": "gdlmIdJUgGl-",
        "colab_type": "code",
        "colab": {}
      },
      "source": [
        ""
      ],
      "execution_count": 0,
      "outputs": []
    }
  ]
}